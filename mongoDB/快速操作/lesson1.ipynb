{
 "cells": [
  {
   "cell_type": "code",
   "execution_count": 16,
   "metadata": {},
   "outputs": [
    {
     "name": "stdout",
     "output_type": "stream",
     "text": [
      "sample_mflix\n",
      "admin\n",
      "local\n"
     ]
    }
   ],
   "source": [
    "import datetime   # This will be needed later\n",
    "import os\n",
    "\n",
    "from dotenv import load_dotenv\n",
    "from pymongo import MongoClient\n",
    "\n",
    "# Load config from a .env file:\n",
    "load_dotenv()\n",
    "MONGODB_URI = os.environ['MONGODB_URI']\n",
    "\n",
    "# Connect to your MongoDB cluster:\n",
    "client = MongoClient(MONGODB_URI)\n",
    "\n",
    "# List all the databases in the cluster:\n",
    "for db_info in client.list_database_names():\n",
    "   print(db_info)"
   ]
  },
  {
   "cell_type": "code",
   "execution_count": 3,
   "metadata": {},
   "outputs": [
    {
     "name": "stdout",
     "output_type": "stream",
     "text": [
      "theaters\n",
      "embedded_movies\n",
      "sessions\n",
      "movies\n",
      "comments\n",
      "users\n"
     ]
    }
   ],
   "source": [
    "# Get a reference to the 'sample_mflix' database:\n",
    "db = client['sample_mflix']\n",
    "\n",
    "# List all the collections in 'sample_mflix':\n",
    "collections = db.list_collection_names()\n",
    "for collection in collections:\n",
    "   print(collection)"
   ]
  },
  {
   "cell_type": "code",
   "execution_count": 6,
   "metadata": {},
   "outputs": [
    {
     "name": "stdout",
     "output_type": "stream",
     "text": [
      "{'_id': ObjectId('573a1390f29313caabcd42e8'),\n",
      " 'awards': {'nominations': 0, 'text': '1 win.', 'wins': 1},\n",
      " 'cast': ['A.C. Abadie',\n",
      "          \"Gilbert M. 'Broncho Billy' Anderson\",\n",
      "          'George Barnes',\n",
      "          'Justus D. Barnes'],\n",
      " 'countries': ['USA'],\n",
      " 'directors': ['Edwin S. Porter'],\n",
      " 'fullplot': 'Among the earliest existing films in American cinema - notable '\n",
      "             'as the first film that presented a narrative story to tell - it '\n",
      "             'depicts a group of cowboy outlaws who hold up a train and rob '\n",
      "             \"the passengers. They are then pursued by a Sheriff's posse. \"\n",
      "             'Several scenes have color included - all hand tinted.',\n",
      " 'genres': ['Short', 'Western'],\n",
      " 'imdb': {'id': 439, 'rating': 7.4, 'votes': 9847},\n",
      " 'languages': ['English'],\n",
      " 'lastupdated': '2015-08-13 00:27:59.177000000',\n",
      " 'num_mflix_comments': 0,\n",
      " 'plot': 'A group of bandits stage a brazen train hold-up, only to find a '\n",
      "         'determined posse hot on their heels.',\n",
      " 'poster': 'https://m.media-amazon.com/images/M/MV5BMTU3NjE5NzYtYTYyNS00MDVmLWIwYjgtMmYwYWIxZDYyNzU2XkEyXkFqcGdeQXVyNzQzNzQxNzI@._V1_SY1000_SX677_AL_.jpg',\n",
      " 'rated': 'TV-G',\n",
      " 'released': datetime.datetime(1903, 12, 1, 0, 0),\n",
      " 'runtime': 11,\n",
      " 'title': 'The Great Train Robbery',\n",
      " 'tomatoes': {'critic': {'meter': 100, 'numReviews': 6, 'rating': 7.6},\n",
      "              'fresh': 6,\n",
      "              'lastUpdated': datetime.datetime(2015, 8, 8, 19, 16, 10),\n",
      "              'rotten': 0,\n",
      "              'viewer': {'meter': 75, 'numReviews': 2559, 'rating': 3.7}},\n",
      " 'type': 'movie',\n",
      " 'year': 1903}\n"
     ]
    }
   ],
   "source": [
    "# Import the `pprint` function to print nested data:\n",
    "from pprint import pprint\n",
    "\n",
    "# Get a reference to the 'movies' collection:\n",
    "movies = db['movies']\n",
    "\n",
    "# Get the document with the title 'Blacksmith Scene':\n",
    "pprint(movies.find_one({'title': 'The Great Train Robbery'}))"
   ]
  },
  {
   "cell_type": "code",
   "execution_count": 8,
   "metadata": {},
   "outputs": [
    {
     "name": "stdout",
     "output_type": "stream",
     "text": [
      "_id of inserted document: 677616dac013cc6e4fb5eadd\n"
     ]
    }
   ],
   "source": [
    "# Insert a document for the movie 'Parasite':\n",
    "from datetime import datetime \n",
    "insert_result = movies.insert_one({\n",
    "      \"title\": \"Parasite\",\n",
    "      \"year\": 2020,\n",
    "      \"plot\": \"A poor family, the Kims, con their way into becoming the servants of a rich family, the Parks. \"\n",
    "      \"But their easy life gets complicated when their deception is threatened with exposure.\",\n",
    "      \"released\": datetime(2020, 2, 7, 0, 0, 0),\n",
    "   })\n",
    "\n",
    "# Save the inserted_id of the document you just created:\n",
    "parasite_id = insert_result.inserted_id\n",
    "print(\"_id of inserted document: {parasite_id}\".format(parasite_id=parasite_id))"
   ]
  },
  {
   "cell_type": "code",
   "execution_count": 11,
   "metadata": {},
   "outputs": [
    {
     "name": "stdout",
     "output_type": "stream",
     "text": [
      "{'_id': ObjectId('677616dac013cc6e4fb5eadd'),\n",
      " 'plot': 'A poor family, the Kims, con their way into becoming the servants of '\n",
      "         'a rich family, the Parks. But their easy life gets complicated when '\n",
      "         'their deception is threatened with exposure.',\n",
      " 'released': datetime.datetime(2020, 2, 7, 0, 0),\n",
      " 'title': 'Parasite',\n",
      " 'year': 2020}\n"
     ]
    }
   ],
   "source": [
    "import bson\n",
    "from pprint import pprint\n",
    "\n",
    "pprint(movies.find_one({'_id':bson.ObjectId(parasite_id)}))\n"
   ]
  },
  {
   "cell_type": "code",
   "execution_count": 13,
   "metadata": {},
   "outputs": [
    {
     "name": "stdout",
     "output_type": "stream",
     "text": [
      "{'_id': ObjectId('677616dac013cc6e4fb5eadd'),\n",
      " 'plot': 'A poor family, the Kims, con their way into becoming the servants of '\n",
      "         'a rich family, the Parks. But their easy life gets complicated when '\n",
      "         'their deception is threatened with exposure.',\n",
      " 'released': datetime.datetime(2020, 2, 7, 0, 0),\n",
      " 'title': 'Parasite',\n",
      " 'year': 2020}\n"
     ]
    }
   ],
   "source": [
    "for doc in movies.find({'title':'Parasite'}):\n",
    "    pprint(doc)"
   ]
  },
  {
   "cell_type": "code",
   "execution_count": 14,
   "metadata": {},
   "outputs": [
    {
     "name": "stdout",
     "output_type": "stream",
     "text": [
      "{'_id': ObjectId('677616dac013cc6e4fb5eadd'),\n",
      " 'plot': 'A poor family, the Kims, con their way into becoming the servants of '\n",
      "         'a rich family, the Parks. But their easy life gets complicated when '\n",
      "         'their deception is threatened with exposure.',\n",
      " 'released': datetime.datetime(2020, 2, 7, 0, 0),\n",
      " 'title': 'Parasite',\n",
      " 'year': 2019}\n"
     ]
    }
   ],
   "source": [
    "# Update the document with the correct year:\n",
    "update_result = movies.update_one({ '_id': parasite_id }, {\n",
    "   '$set': {\"year\": 2019}\n",
    "})\n",
    "\n",
    "# Print out the updated record to make sure it's correct:\n",
    "pprint(movies.find_one({'_id': bson.ObjectId(parasite_id)}))"
   ]
  },
  {
   "cell_type": "code",
   "execution_count": 15,
   "metadata": {},
   "outputs": [
    {
     "data": {
      "text/plain": [
       "<pymongo.results.DeleteResult at 0xffff7424a880>"
      ]
     },
     "execution_count": 15,
     "metadata": {},
     "output_type": "execute_result"
    }
   ],
   "source": [
    "movies.delete_many(\n",
    "    {'title':'Parasite'}\n",
    ")"
   ]
  }
 ],
 "metadata": {
  "kernelspec": {
   "display_name": "base",
   "language": "python",
   "name": "python3"
  },
  "language_info": {
   "codemirror_mode": {
    "name": "ipython",
    "version": 3
   },
   "file_extension": ".py",
   "mimetype": "text/x-python",
   "name": "python",
   "nbconvert_exporter": "python",
   "pygments_lexer": "ipython3",
   "version": "3.12.2"
  }
 },
 "nbformat": 4,
 "nbformat_minor": 2
}
